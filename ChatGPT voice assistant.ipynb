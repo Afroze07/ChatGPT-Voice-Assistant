{
 "cells": [
  {
   "cell_type": "code",
   "execution_count": 2,
   "id": "63160574",
   "metadata": {},
   "outputs": [
    {
     "name": "stdout",
     "output_type": "stream",
     "text": [
      "Collecting openai\n",
      "  Downloading openai-0.27.2-py3-none-any.whl (70 kB)\n",
      "Requirement already satisfied: tqdm in c:\\users\\91704\\anaconda3\\lib\\site-packages (from openai) (4.59.0)\n",
      "Requirement already satisfied: requests>=2.20 in c:\\users\\91704\\anaconda3\\lib\\site-packages (from openai) (2.28.1)\n",
      "Collecting aiohttp\n",
      "  Downloading aiohttp-3.8.4-cp38-cp38-win_amd64.whl (324 kB)\n",
      "Requirement already satisfied: idna<4,>=2.5 in c:\\users\\91704\\anaconda3\\lib\\site-packages (from requests>=2.20->openai) (2.10)\n",
      "Requirement already satisfied: charset-normalizer<3,>=2 in c:\\users\\91704\\anaconda3\\lib\\site-packages (from requests>=2.20->openai) (2.1.1)\n",
      "Requirement already satisfied: urllib3<1.27,>=1.21.1 in c:\\users\\91704\\anaconda3\\lib\\site-packages (from requests>=2.20->openai) (1.26.4)\n",
      "Requirement already satisfied: certifi>=2017.4.17 in c:\\users\\91704\\anaconda3\\lib\\site-packages (from requests>=2.20->openai) (2020.12.5)\n",
      "Requirement already satisfied: attrs>=17.3.0 in c:\\users\\91704\\anaconda3\\lib\\site-packages (from aiohttp->openai) (20.3.0)\n",
      "Collecting async-timeout<5.0,>=4.0.0a3\n",
      "  Downloading async_timeout-4.0.2-py3-none-any.whl (5.8 kB)\n",
      "Collecting frozenlist>=1.1.1\n",
      "  Downloading frozenlist-1.3.3-cp38-cp38-win_amd64.whl (34 kB)\n",
      "Collecting yarl<2.0,>=1.0\n",
      "  Downloading yarl-1.8.2-cp38-cp38-win_amd64.whl (56 kB)\n",
      "Collecting aiosignal>=1.1.2\n",
      "  Downloading aiosignal-1.3.1-py3-none-any.whl (7.6 kB)\n",
      "Collecting multidict<7.0,>=4.5\n",
      "  Downloading multidict-6.0.4-cp38-cp38-win_amd64.whl (28 kB)\n",
      "Installing collected packages: multidict, frozenlist, yarl, async-timeout, aiosignal, aiohttp, openai\n",
      "Successfully installed aiohttp-3.8.4 aiosignal-1.3.1 async-timeout-4.0.2 frozenlist-1.3.3 multidict-6.0.4 openai-0.27.2 yarl-1.8.2\n"
     ]
    }
   ],
   "source": [
    "!pip install openai"
   ]
  },
  {
   "cell_type": "code",
   "execution_count": 24,
   "id": "fad6bdcb",
   "metadata": {},
   "outputs": [
    {
     "name": "stdout",
     "output_type": "stream",
     "text": [
      "Collecting pyaudio\n",
      "  Downloading PyAudio-0.2.13-cp38-cp38-win_amd64.whl (164 kB)\n",
      "Installing collected packages: pyaudio\n",
      "Successfully installed pyaudio-0.2.13\n"
     ]
    }
   ],
   "source": [
    "!pip install pyaudio"
   ]
  },
  {
   "cell_type": "code",
   "execution_count": 25,
   "id": "0d871886",
   "metadata": {},
   "outputs": [
    {
     "name": "stdout",
     "output_type": "stream",
     "text": [
      "Requirement already satisfied: pyttsx3 in c:\\users\\91704\\anaconda3\\lib\\site-packages (2.90)\n",
      "Requirement already satisfied: pypiwin32 in c:\\users\\91704\\anaconda3\\lib\\site-packages (from pyttsx3) (223)\n",
      "Requirement already satisfied: comtypes in c:\\users\\91704\\anaconda3\\lib\\site-packages (from pyttsx3) (1.1.9)\n",
      "Requirement already satisfied: pywin32 in c:\\users\\91704\\anaconda3\\lib\\site-packages (from pyttsx3) (227)\n"
     ]
    }
   ],
   "source": [
    "!pip install pyttsx3"
   ]
  },
  {
   "cell_type": "code",
   "execution_count": 26,
   "id": "0d707eec",
   "metadata": {},
   "outputs": [],
   "source": [
    "import openai\n",
    "import pyttsx3\n",
    "import speech_recognition as sr"
   ]
  },
  {
   "cell_type": "code",
   "execution_count": 27,
   "id": "2fb31f84",
   "metadata": {},
   "outputs": [],
   "source": [
    "openai.api_key=\"\""
   ]
  },
  {
   "cell_type": "code",
   "execution_count": 28,
   "id": "b511f175",
   "metadata": {},
   "outputs": [],
   "source": [
    "engine=pyttsx3.init()"
   ]
  },
  {
   "cell_type": "markdown",
   "id": "206df2a6",
   "metadata": {},
   "source": [
    "# Give input as audio and translate it to text"
   ]
  },
  {
   "cell_type": "code",
   "execution_count": 29,
   "id": "132267bf",
   "metadata": {},
   "outputs": [],
   "source": [
    "def transcribe_audio_to_text(Filename):\n",
    "    recognizer=sr.Recognizer()\n",
    "    with sr.AudioFile(filename) as sources:\n",
    "        audio=recognizer.record(source)\n",
    "    try:\n",
    "        return recognizer.recognize_google(audio)\n",
    "    except:\n",
    "        print(\"Skipping unknown error\")"
   ]
  },
  {
   "cell_type": "markdown",
   "id": "ee5ecbbc",
   "metadata": {},
   "source": [
    "# Generate function from the GPT"
   ]
  },
  {
   "cell_type": "code",
   "execution_count": 30,
   "id": "edaf0bce",
   "metadata": {},
   "outputs": [],
   "source": [
    "def generate_response(prompt):\n",
    "    response=openai.Completion.create(\n",
    "    engine=\"text-davinci-003\",\n",
    "        prompt=prompt,\n",
    "        maax_tokens=4000,\n",
    "        n=1,\n",
    "        stop=None,\n",
    "        temperature=0.5,\n",
    "    )\n",
    "    return response[\"choices\"][0][\"text\"]\n"
   ]
  },
  {
   "cell_type": "markdown",
   "id": "8b2f59be",
   "metadata": {},
   "source": [
    "# speaking responses from our system"
   ]
  },
  {
   "cell_type": "code",
   "execution_count": 36,
   "id": "7ce74cdf",
   "metadata": {},
   "outputs": [],
   "source": [
    "def speak_text(text):\n",
    "    engine.say(text)\n",
    "    engine.runAndWait()\n",
    "def main():\n",
    "    while True:\n",
    "        print(\"Say 'Genius' to start recording your question....\")\n",
    "        with sr.Microphone() as source:\n",
    "            recognizer = sr.Recognizer()\n",
    "            audio = recognizer.listen(source)\n",
    "            try:\n",
    "                transcription = recognizer.recognize_google(audio)\n",
    "                if transcription.lower() == \"genius\":\n",
    "                    #record audio\n",
    "                    filename = \"input.wav\"\n",
    "                    print(\"Say your question...\")\n",
    "                    with sr.Microphone() as source:\n",
    "                        recognizer=sr.Recognizer()\n",
    "                        source.pause_threshold = 1\n",
    "                        audio = recognizer.listen(source,phrase_time_limit=None,timeout=None)\n",
    "                        with open(filename,\"wb\")as f:\n",
    "                            f.write(audio.get_wav_data())\n",
    "                            \n",
    "                        #transcribe audio to text\n",
    "                        text = transcribe_audio_to_text(filename)\n",
    "                        if text:\n",
    "                            print(f\"You said: {text}\")\n",
    "                            \n",
    "                            \n",
    "                            #generate response using GPT-3\n",
    "                            response=generate_response(text)\n",
    "                            print(f\"GPT-3 says:{response}\")\n",
    "                            \n",
    "                            #read response using text-to-speech\n",
    "                            speak_text(response)\n",
    "            except Exception as e:\n",
    "                    print(\"An error occured: {}\".format(e))"
   ]
  },
  {
   "cell_type": "code",
   "execution_count": null,
   "id": "b6761b07",
   "metadata": {
    "scrolled": true
   },
   "outputs": [],
   "source": [
    "if __name__==\"__main__\":\n",
    "    main()"
   ]
  },
  {
   "cell_type": "code",
   "execution_count": null,
   "id": "20afe37c",
   "metadata": {},
   "outputs": [],
   "source": []
  }
 ],
 "metadata": {
  "kernelspec": {
   "display_name": "Python 3",
   "language": "python",
   "name": "python3"
  },
  "language_info": {
   "codemirror_mode": {
    "name": "ipython",
    "version": 3
   },
   "file_extension": ".py",
   "mimetype": "text/x-python",
   "name": "python",
   "nbconvert_exporter": "python",
   "pygments_lexer": "ipython3",
   "version": "3.8.8"
  }
 },
 "nbformat": 4,
 "nbformat_minor": 5
}
